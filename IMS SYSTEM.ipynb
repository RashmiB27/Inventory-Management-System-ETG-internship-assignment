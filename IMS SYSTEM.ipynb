{
 "cells": [
  {
   "cell_type": "code",
   "execution_count": 283,
   "id": "a74da676-22b1-4cd8-af17-a9919d016ce0",
   "metadata": {},
   "outputs": [],
   "source": [
    "##DICTIONARY\n",
    "\n",
    "items ={1:{\"name\":\"chocolate\",\"price\":20,\"quantity available\":600,\"company\":\"dairymilk\",\"Expiry Date\":\"1/10/21\"},\n",
    "        2:{\"name\":\"maggie\",\"price\":10,\"quantity available\":500,\"company\":\"nestle\",\"Expiry Date\":\"12/12/21\"},\n",
    "        3:{\"name\":\"sugar\",\"price\":40,\"quantity available\":300,\"company\":\"madhur\",\"Expiry Date\":\"11/10/23\"},\n",
    "        4:{\"name\":\"coconut oil\",\"price\":50,\"quantity available\":300,\"company\":\"parachute\",\"Expiry Date\":\"10/10/22\"},\n",
    "        5:{\"name\":\"happy happy biscuit\",\"price\":10,\"quantity available\":1000,\"company\":\"parle\",\"Expiry Date\":\"15/10/23\"},\n",
    "        6:{\"name\":\"cupcake\",\"price\":50,\"quantity available\":200,\"company\":\"britannia\",\"Expiry Date\":\"1/10/21\"},\n",
    "        7:{\"name\":\"soap\",\"price\":10,\"quantity available\":800,\"company\":\"santoor\",\"Expiry Date\":\"3/10/23\"},\n",
    "        8:{\"name\":\"pen\",\"price\":10,\"quantity available\":2000,\"company\":\"goldex\",\"Expiry Date\":\"3/10/23\"},\n",
    "        9:{\"name\":\"shampoo\",\"price\":100,\"quantity available\":200,\"company\":\"sunsilk\",\"Expiry Date\":\"3/12/21\"},\n",
    "        10:{\"name\":\"broom\",\"price\":90,\"quantity available\":500,\"company\":\"gala\",\"Expiry Date\":\"3/10/25\"},\n",
    "        11:{\"name\":\"toothpaste\",\"price\":80,\"quantity available\":100,\"company\":\"colgate\",\"Expiry Date\":\"3/11/21\"},\n",
    "        12:{\"name\":\"washing soap\",\"price\":20,\"quantity available\":800,\"company\":\"wheel\",\"Expiry Date\":\"3/10/23\"},\n",
    "        13:{\"name\":\"pasta\",\"price\":15,\"quantity available\":600,\"company\":\"nestle\",\"Expiry Date\":\"3/11/21\"},\n",
    "        14:{\"name\":\"sup packet\",\"price\":10,\"quantity available\":500,\"company\":\"knor\",\"Expiry Date\":\"3/10/22\"},\n",
    "        15:{\"name\":\"peanut\",\"price\":110,\"quantity available\":300,\"company\":\"-\",\"Expiry Date\":\"3/10/25\"},\n",
    "        16:{\"name\":\"kashew\",\"price\":250,\"quantity available\":500,\"company\":\"timtim\",\"Expiry Date\":\"12/11/23\"},\n",
    "        17:{\"name\":\"almond\",\"price\":250,\"quantity available\":500,\"company\":\"timtim\",\"Expiry Date\":\"12/11/23\"},\n",
    "        18:{\"name\":\"raisin\",\"price\":90,\"quantity available\":300,\"company\":\"timtim\",\"Expiry Date\":\"27/10/21\"},\n",
    "        19:{\"name\":\"walnuts\",\"price\":300,\"quantity available\":500,\"company\":\"timtim\",\"Expiry Date\":\"4/10/22\"},\n",
    "        20:{\"name\":\"dates\",\"price\":200,\"quantity available\":100,\"company\":\"rostta\",\"Expiry Date\":\"1/10/21\"},\n",
    "        21:{\"name\":\"wheat\",\"price\":3000,\"quantity available\":200,\"company\":\"kalash\",\"Expiry Date\":\"3/10/26\"},\n",
    "        22:{\"name\":\"basmati rice\",\"price\":150,\"quantity available\":500,\"company\":\"dawat\",\"Expiry Date\":\"15/10/26\"},\n",
    "        23:{\"name\":\"wapours\",\"price\":10,\"quantity available\":1000,\"company\":\"balaji\",\"Expiry Date\":\"5/11/21\"},\n",
    "        24:{\"name\":\"poha\",\"price\":60,\"quantity available\":200,\"company\":\"swastik\",\"Expiry Date\":\"2/11/24\"},\n",
    "        25:{\"name\":\"cooking oil\",\"price\":1200,\"quantity available\":100,\"company\":\"fortune\",\"Expiry Date\":\"9/10/23\"},\n",
    "        26:{\"name\":\"bodylotion\",\"price\":215,\"quantity available\":50,\"company\":\"santoor\",\"Expiry Date\":\"16/11/23\"},\n",
    "        27:{\"name\":\"bulb\",\"price\":10,\"quantity available\":400,\"company\":\"wipro\",\"Expiry Date\":\"24/10/25\"},\n",
    "        28:{\"name\":\"toothbrush\",\"price\":20,\"quantity available\":500,\"company\":\"colgate\",\"Expiry Date\":\"3/11/23\"},\n",
    "        29:{\"name\":\"gulabjamun\",\"price\":100,\"quantity available\":50,\"company\":\"gits\",\"Expiry Date\":\"23/9/21\"},\n",
    "        30:{\"name\":\"red chili powder\",\"price\":100,\"quantity available\":100,\"company\":\"mahalakshmi\",\"Expiry Date\":\"11/10/23\"},\n",
    "        31:{\"name\":\"coffee powder\",\"price\":10,\"quantity available\":500,\"company\":\"nestle\",\"Expiry Date\":\"9/10/23\"},\n",
    "        32:{\"name\":\"tea powder\",\"price\":90,\"quantity available\":100,\"company\":\"red label\",\"Expiry Date\":\"9/10/23\"}}"
   ]
  },
  {
   "cell_type": "code",
   "execution_count": 295,
   "id": "1108445e-ace4-44c4-90f8-4a8e4dd8f453",
   "metadata": {
    "tags": []
   },
   "outputs": [
    {
     "name": "stdout",
     "output_type": "stream",
     "text": [
      "press 1 to add items\n",
      "press 2 to delete items\n"
     ]
    },
    {
     "name": "stdin",
     "output_type": "stream",
     "text": [
      "enter the choice 2\n",
      "enter the no of products you want to delete 1\n",
      "enter the id which you want to delete 33\n"
     ]
    }
   ],
   "source": [
    "#to add or delete items in dictionary\n",
    "\n",
    "print(\"press 1 to add items\")\n",
    "print(\"press 2 to delete items\")\n",
    "n1 = int(input(\"enter the choice\"))\n",
    "if(n1==2):\n",
    "    n = int(input(\"enter the no of products you want to delete\"))\n",
    "    for i in range(n):\n",
    "        idp1 = int(input(\"enter the id which you want to delete\"))\n",
    "        del items[idp1]\n",
    "else:\n",
    "    n = input(\"how many products you want to add to it\")\n",
    "    for i in range(n):\n",
    "        idp1 = int(input(\"enter the id of product\"))\n",
    "        if idp1 in items:\n",
    "            quantity = input(\"enter the quantity \")\n",
    "            items[idp1]['quantity availabel'] = (int(items[idp1]['quantity availabel']) + int(quantity))\n",
    "        else:\n",
    "            name = input(\"enter the name of the product\")\n",
    "            price = int(input(\"enter the price\"))\n",
    "            quantity = int(input(\"enter the quantity\"))\n",
    "            company = input(\"enter the company\")\n",
    "            expirydate = input(\"enter the expiry date\")\n",
    "            items[idp1] = {\"name\":name,\"price\":price,\"quantity availabel\":quantity,\"company\":company,\"Expiry Date\":expirydate}\n",
    "fd = open(\"record.json\",\"w\")\n",
    "js = json.dumps(items)\n",
    "fd.write(js)\n",
    "fd.close()"
   ]
  },
  {
   "cell_type": "code",
   "execution_count": 296,
   "id": "9d35b986-2a28-4595-bbf2-200f6d86f2e9",
   "metadata": {},
   "outputs": [
    {
     "name": "stdout",
     "output_type": "stream",
     "text": [
      "...Welcome to supershop...\n",
      "\n",
      "select from list\n",
      "1 chocolate\n",
      "2 maggie\n",
      "3 sugar\n",
      "4 coconut oil\n",
      "5 happy happy biscuit\n",
      "6 cupcake\n",
      "7 soap\n",
      "8 pen\n",
      "9 shampoo\n",
      "10 broom\n",
      "11 toothpaste\n",
      "12 washing soap\n",
      "13 pasta\n",
      "14 sup packet\n",
      "15 peanut\n",
      "16 kashew\n",
      "17 almond\n",
      "18 raisin\n",
      "19 walnuts\n",
      "20 dates\n",
      "21 wheat\n",
      "22 basmati rice\n",
      "23 wapours\n",
      "24 poha\n",
      "25 cooking oil\n",
      "26 bodylotion\n",
      "27 bulb\n",
      "28 toothbrush\n",
      "29 gulabjamun\n",
      "30 red chili powder\n",
      "31 coffee powder\n",
      "32 tea powder\n"
     ]
    },
    {
     "name": "stdin",
     "output_type": "stream",
     "text": [
      "enter number of products that you want to buy 1\n",
      "enter the id of product 1\n",
      "enter the quantity 1\n"
     ]
    },
    {
     "name": "stdout",
     "output_type": "stream",
     "text": [
      "-------------------------\n",
      "name of item :  chocolate\n",
      "price :  20\n",
      "company :  dairymilk\n",
      "expiry date :  1/10/21\n",
      "individual amount :  20\n",
      "........................................\n",
      "*****************************\n",
      "//total amount// :  20\n",
      "*****************************************\n",
      "Thnk you Visit Again\n"
     ]
    }
   ],
   "source": [
    "# billing work \n",
    "\n",
    "print(\"...Welcome to supershop...\\n\")\n",
    "print(\"select from list\")\n",
    "for i in items:\n",
    "    print(i,items[i][\"name\"]) #print items\n",
    "n = int(input(\"enter number of products that you want to buy\")) #no of items\n",
    "\n",
    "Iamount= 0\n",
    "for i in range(n):\n",
    "    idp = input(\"enter the id of product\") #product id\n",
    "    quantity = int(input(\"enter the quantity\")) \n",
    "    print(\"-------------------------\")\n",
    "    if int(idp) in items:\n",
    "        print(\"name of item : \",items[int(idp)]['name'])\n",
    "        print(\"price : \",items[int(idp)]['price'])\n",
    "        print(\"company : \",items[int(idp)]['company'])\n",
    "        print(\"expiry date : \",items[int(idp)]['Expiry Date'])\n",
    "        Iamount1 = items[int(idp)]['price']*quantity\n",
    "        print(\"individual amount : \",Iamount1)\n",
    "        print(\"........................................\")\n",
    "        items[int(idp)][\"quantity available\"]=(int(items[int(idp)][\"quantity available\"])-quantity)\n",
    "        import uuid\n",
    "        transactionid = uuid.uuid1()\n",
    "        sl = open(\"sales2021.txt\",'a') #sales file\n",
    "        from datetime import datetime \n",
    "        datetime = datetime.now()\n",
    "        sales = (\"transaction id : \" + str(transactionid) + \" \"+\",\" +\"name : \" + str(items[int(idp)]['name']) +\" \" +\",\" + \" price : \" + str(items[int(idp)]['price']) + \" \" +\",\"+ \"saled product : \" + str(quantity) + \" \"+\",\"\"individual amount : \" + str(Iamount1) +\" \" +\",\" +  \"time : \" + str(datetime) + \" \" + \"\\n\")\n",
    "        sl.write(sales)\n",
    "        sl.close()\n",
    "        import json\n",
    "        fd = open(\"record.json\",'w') #jason file\n",
    "        js = json.dumps(items)\n",
    "        fd.write(js)\n",
    "        fd.close()\n",
    "        Iamount+=Iamount1\n",
    "    else:\n",
    "        print(\"enter valid id of product\")\n",
    "print(\"*****************************\")\n",
    "        \n",
    "print(\"//total amount// : \",Iamount)\n",
    "print(\"*****************************************\")\n",
    "print(\"Thnk you Visit Again\")\n"
   ]
  },
  {
   "cell_type": "code",
   "execution_count": null,
   "id": "70b8063b-ab67-4c63-a65c-452063f84caa",
   "metadata": {},
   "outputs": [],
   "source": []
  },
  {
   "cell_type": "code",
   "execution_count": null,
   "id": "4cb0576f-cd50-493e-8387-5df5c14b10e9",
   "metadata": {},
   "outputs": [],
   "source": []
  }
 ],
 "metadata": {
  "kernelspec": {
   "display_name": "Python 3",
   "language": "python",
   "name": "python3"
  },
  "language_info": {
   "codemirror_mode": {
    "name": "ipython",
    "version": 3
   },
   "file_extension": ".py",
   "mimetype": "text/x-python",
   "name": "python",
   "nbconvert_exporter": "python",
   "pygments_lexer": "ipython3",
   "version": "3.8.8"
  }
 },
 "nbformat": 4,
 "nbformat_minor": 5
}
